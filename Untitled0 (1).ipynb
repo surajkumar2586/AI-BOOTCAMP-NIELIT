{
  "nbformat": 4,
  "nbformat_minor": 0,
  "metadata": {
    "colab": {
      "provenance": []
    },
    "kernelspec": {
      "name": "python3",
      "display_name": "Python 3"
    },
    "language_info": {
      "name": "python"
    }
  },
  "cells": [
    {
      "cell_type": "code",
      "source": [
        "j=float(input(\"enter the first number:\"))\n",
        "k=float(input(\"enter the second number:\"))\n",
        "r=float(input(\"enter the third number:\"))\n",
        "p=j*k*r\n",
        "print(\"the product of three numbers is\",p)"
      ],
      "metadata": {
        "colab": {
          "base_uri": "https://localhost:8080/",
          "height": 106
        },
        "id": "nATTPQwUx9_o",
        "outputId": "06e1ea7a-a90d-40f0-c85d-2c98fe81e048"
      },
      "execution_count": 6,
      "outputs": [
        {
          "output_type": "error",
          "ename": "SyntaxError",
          "evalue": "invalid syntax. Perhaps you forgot a comma? (ipython-input-6-1715735244.py, line 1)",
          "traceback": [
            "\u001b[0;36m  File \u001b[0;32m\"/tmp/ipython-input-6-1715735244.py\"\u001b[0;36m, line \u001b[0;32m1\u001b[0m\n\u001b[0;31m    j=float(input(\"enter the first number:\")\u001b[0m\n\u001b[0m            ^\u001b[0m\n\u001b[0;31mSyntaxError\u001b[0m\u001b[0;31m:\u001b[0m invalid syntax. Perhaps you forgot a comma?\n"
          ]
        }
      ]
    },
    {
      "cell_type": "code",
      "execution_count": 1,
      "metadata": {
        "colab": {
          "base_uri": "https://localhost:8080/",
          "height": 0
        },
        "id": "nNCpjj1YuyK7",
        "outputId": "f7bee7f9-54d6-4164-e920-da368eb56380"
      },
      "outputs": [
        {
          "output_type": "stream",
          "name": "stdout",
          "text": [
            "hallow world\n"
          ]
        }
      ],
      "source": [
        "print(\"hallow world\")"
      ]
    },
    {
      "cell_type": "code",
      "source": [
        "a=25\n",
        "b=10.7\n",
        "#addition\n",
        "c=a+b\n",
        "print(\"the sum of two number\",c)"
      ],
      "metadata": {
        "colab": {
          "base_uri": "https://localhost:8080/",
          "height": 0
        },
        "id": "ULeaObdwxHPT",
        "outputId": "7c4c8f86-e11f-42d7-c274-20740e2f83f5"
      },
      "execution_count": 3,
      "outputs": [
        {
          "output_type": "stream",
          "name": "stdout",
          "text": [
            "the sum of two number 35.7\n"
          ]
        }
      ]
    },
    {
      "cell_type": "code",
      "source": [
        "j=float(input(\"enter the first number:\"))\n",
        "p=float(input(\"enter the secan number:\"))\n",
        "g=float(input(\"enter the third number:\"))\n",
        "h=j*p*g\n",
        "print(\"the product of two number is\",h)\n",
        "\n"
      ],
      "metadata": {
        "colab": {
          "base_uri": "https://localhost:8080/"
        },
        "id": "yIPPmWkayyg9",
        "outputId": "b1bf6d38-23fc-4f43-d649-9686260f5896"
      },
      "execution_count": 9,
      "outputs": [
        {
          "output_type": "stream",
          "name": "stdout",
          "text": [
            "enter the first number:2587\n",
            "enter the secan number:1473\n",
            "enter the third number:3698\n",
            "the product of two number is 14091787398.0\n"
          ]
        }
      ]
    },
    {
      "cell_type": "code",
      "source": [
        "a=96\n",
        "b=9\n",
        "#suberaction\n",
        "c=a/b\n",
        "print (\"the suberaction\",c)"
      ],
      "metadata": {
        "colab": {
          "base_uri": "https://localhost:8080/"
        },
        "id": "9WwCkcUa3R7j",
        "outputId": "3f52cd34-7fd2-487c-e66f-47d9648a0057"
      },
      "execution_count": 10,
      "outputs": [
        {
          "output_type": "stream",
          "name": "stdout",
          "text": [
            "the suberaction 10.666666666666666\n"
          ]
        }
      ]
    }
  ]
}